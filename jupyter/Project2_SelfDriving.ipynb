{
 "cells": [
  {
   "cell_type": "markdown",
   "id": "c6ddc1e5-ce2e-4840-82b5-c99f65b92d61",
   "metadata": {},
   "source": [
    "# Self Driving\n",
    "## 1. Import"
   ]
  },
  {
   "cell_type": "code",
   "execution_count": 15,
   "id": "ce3984e1-5311-41eb-8d5c-959b9d286cb2",
   "metadata": {},
   "outputs": [],
   "source": [
    "import os\n",
    "import gymnasium as gym\n",
    "from stable_baselines3 import PPO\n",
    "from stable_baselines3.common.vec_env import DummyVecEnv\n",
    "from stable_baselines3.common.evaluation import evaluate_policy"
   ]
  },
  {
   "cell_type": "markdown",
   "id": "0a75c086-b0ca-4465-9610-c2e261c64f1b",
   "metadata": {},
   "source": [
    "## 2. Test Env"
   ]
  },
  {
   "cell_type": "code",
   "execution_count": 26,
   "id": "c3652ac7-8378-40fc-8ae7-942890f9030b",
   "metadata": {},
   "outputs": [],
   "source": [
    "env_name = 'CarRacing-v2'\n",
    "render_mode = None\n",
    "env = gym.make(env_name,render_mode=render_mode)"
   ]
  },
  {
   "cell_type": "code",
   "execution_count": 27,
   "id": "ac393899-f0c1-475d-98d2-8f4022c41a2c",
   "metadata": {},
   "outputs": [],
   "source": [
    "env.reset();"
   ]
  },
  {
   "cell_type": "code",
   "execution_count": 18,
   "id": "dcd7348b-b1b9-4218-968e-33ec7b010eaa",
   "metadata": {},
   "outputs": [
    {
     "data": {
      "text/plain": [
       "Box([-1.  0.  0.], 1.0, (3,), float32)"
      ]
     },
     "execution_count": 18,
     "metadata": {},
     "output_type": "execute_result"
    }
   ],
   "source": [
    "env.action_space"
   ]
  },
  {
   "cell_type": "code",
   "execution_count": 19,
   "id": "d45a1c33-eaad-4ff8-958a-7892151aa99d",
   "metadata": {},
   "outputs": [
    {
     "data": {
      "text/plain": [
       "Box(0, 255, (96, 96, 3), uint8)"
      ]
     },
     "execution_count": 19,
     "metadata": {},
     "output_type": "execute_result"
    }
   ],
   "source": [
    "env.observation_space"
   ]
  },
  {
   "cell_type": "code",
   "execution_count": 25,
   "id": "9fd793ff-7d74-4f2e-973d-d01b75fc6d18",
   "metadata": {},
   "outputs": [],
   "source": [
    "env.close()"
   ]
  },
  {
   "cell_type": "code",
   "execution_count": 29,
   "id": "1ab49ea5-30f7-42cf-a5ca-9129becad99a",
   "metadata": {},
   "outputs": [
    {
     "name": "stdout",
     "output_type": "stream",
     "text": [
      "Episode:1 Score:-38.27160493827216\n",
      "Episode:2 Score:-34.85342019544029\n",
      "Episode:3 Score:-42.19653179190821\n",
      "Episode:4 Score:-27.00729927007327\n",
      "Episode:5 Score:-29.88929889298921\n"
     ]
    }
   ],
   "source": [
    "episodes =5\n",
    "for episode in range(1,episodes+1):\n",
    "    state = env.reset()\n",
    "    truncated = False\n",
    "    score = 0\n",
    "    \n",
    "    while not truncated:\n",
    "        if render_mode:\n",
    "            env.render()\n",
    "        action = env.action_space.sample()\n",
    "        observation, reward, terminated, truncated, info = env.step(action) # 'terminated' and 'truncated' instead of 'done'\n",
    "        score += reward\n",
    "    print('Episode:{} Score:{}'.format(episode,score))\n",
    "env.close()"
   ]
  },
  {
   "cell_type": "markdown",
   "id": "83bd4746-e7e1-4051-8a03-4dd2cd9aa6b7",
   "metadata": {},
   "source": [
    "## 3. Train Model"
   ]
  },
  {
   "cell_type": "code",
   "execution_count": 40,
   "id": "ccb42702-ee9a-4014-b96c-89db117bbbc2",
   "metadata": {},
   "outputs": [],
   "source": [
    "env = gym.make(env_name,render_mode=render_mode)\n",
    "env = DummyVecEnv([lambda:env])"
   ]
  },
  {
   "cell_type": "code",
   "execution_count": 41,
   "id": "2a8c85a5-be62-4bf8-bb0a-d8a78295bbc2",
   "metadata": {},
   "outputs": [
    {
     "name": "stdout",
     "output_type": "stream",
     "text": [
      "Using cuda device\n",
      "Wrapping the env in a VecTransposeImage.\n"
     ]
    }
   ],
   "source": [
    "log_path = os.path.join('Training','Logs')\n",
    "model = PPO('CnnPolicy',env,verbose=1,tensorboard_log=log_path)"
   ]
  },
  {
   "cell_type": "code",
   "execution_count": 42,
   "id": "6ff03286-c17c-4138-9143-55098e02aa38",
   "metadata": {},
   "outputs": [
    {
     "name": "stdout",
     "output_type": "stream",
     "text": [
      "Logging to Training/Logs/PPO_9\n",
      "-----------------------------\n",
      "| time/              |      |\n",
      "|    fps             | 43   |\n",
      "|    iterations      | 1    |\n",
      "|    time_elapsed    | 47   |\n",
      "|    total_timesteps | 2048 |\n",
      "-----------------------------\n"
     ]
    },
    {
     "data": {
      "text/plain": [
       "<stable_baselines3.ppo.ppo.PPO at 0x7f609e468e50>"
      ]
     },
     "execution_count": 42,
     "metadata": {},
     "output_type": "execute_result"
    }
   ],
   "source": [
    "model.learn(total_timesteps=1000)"
   ]
  },
  {
   "cell_type": "markdown",
   "id": "5e6abb45-0eec-46f4-a789-581372b8f20f",
   "metadata": {},
   "source": [
    "## 4. Save Model"
   ]
  },
  {
   "cell_type": "code",
   "execution_count": 43,
   "id": "bf4aba4c-e6eb-4779-95fc-583769926dc6",
   "metadata": {},
   "outputs": [],
   "source": [
    "ppo_path =  os.path.join('Training', 'Saved_Models','PPO_Driving_Model')"
   ]
  },
  {
   "cell_type": "code",
   "execution_count": 44,
   "id": "4749d3f9-85db-407f-96f9-e3b7edd17541",
   "metadata": {},
   "outputs": [],
   "source": [
    "model.save(ppo_path)"
   ]
  },
  {
   "cell_type": "code",
   "execution_count": 45,
   "id": "043dcfeb-8677-497d-ac12-7eb863ee5e33",
   "metadata": {},
   "outputs": [],
   "source": [
    "del model"
   ]
  },
  {
   "cell_type": "code",
   "execution_count": 46,
   "id": "6b6ebe9c-0b7a-414d-86b0-b6324083b9b8",
   "metadata": {},
   "outputs": [
    {
     "name": "stdout",
     "output_type": "stream",
     "text": [
      "Wrapping the env in a VecTransposeImage.\n"
     ]
    }
   ],
   "source": [
    "model = PPO.load(ppo_path,env)"
   ]
  },
  {
   "cell_type": "markdown",
   "id": "6f6085b2-333b-4c95-a43d-d857c68e2dfa",
   "metadata": {},
   "source": [
    "## 5 Evaluate and Test"
   ]
  },
  {
   "cell_type": "code",
   "execution_count": 47,
   "id": "a49c151e-5688-4822-afa3-06a89ed09fb7",
   "metadata": {},
   "outputs": [
    {
     "data": {
      "text/plain": [
       "(-112.51004658639431, 0.4566206932067871)"
      ]
     },
     "execution_count": 47,
     "metadata": {},
     "output_type": "execute_result"
    }
   ],
   "source": [
    "evaluate_policy(model,env,n_eval_episodes=2,render=True if render_mode else False)"
   ]
  },
  {
   "cell_type": "code",
   "execution_count": 48,
   "id": "bda4aab4-5597-4897-a6b5-b29a628e7925",
   "metadata": {},
   "outputs": [],
   "source": [
    "env.close()"
   ]
  },
  {
   "cell_type": "code",
   "execution_count": 49,
   "id": "f4c4246b-518e-4276-9e5f-540060fedd9b",
   "metadata": {},
   "outputs": [
    {
     "name": "stdout",
     "output_type": "stream",
     "text": [
      "Episode:1 Score:[-53.48804]\n"
     ]
    },
    {
     "name": "stderr",
     "output_type": "stream",
     "text": [
      "\n",
      "KeyboardInterrupt\n",
      "\n"
     ]
    }
   ],
   "source": [
    "episodes =5\n",
    "for episode in range(1,episodes+1):\n",
    "    obs = env.reset()\n",
    "    done = False\n",
    "    score = 0\n",
    "    \n",
    "    while not done:\n",
    "        if render_mode:\n",
    "            env.render()\n",
    "        action,_ = model.predict(obs) # outputs (action,state)\n",
    "        obs, reward, done, info = env.step(action) # Because of the wrapper back to 'done' instead of terminated and truncated\n",
    "        score += reward\n",
    "    print('Episode:{} Score:{}'.format(episode,score))\n",
    "env.close()"
   ]
  }
 ],
 "metadata": {
  "kernelspec": {
   "display_name": "RLTest",
   "language": "python",
   "name": "rltest"
  },
  "language_info": {
   "codemirror_mode": {
    "name": "ipython",
    "version": 3
   },
   "file_extension": ".py",
   "mimetype": "text/x-python",
   "name": "python",
   "nbconvert_exporter": "python",
   "pygments_lexer": "ipython3",
   "version": "3.11.8"
  },
  "widgets": {
   "application/vnd.jupyter.widget-state+json": {
    "state": {},
    "version_major": 2,
    "version_minor": 0
   }
  }
 },
 "nbformat": 4,
 "nbformat_minor": 5
}
